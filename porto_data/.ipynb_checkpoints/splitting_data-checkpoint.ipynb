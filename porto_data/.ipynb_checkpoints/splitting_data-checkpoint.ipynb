{
 "cells": [
  {
   "cell_type": "markdown",
   "metadata": {},
   "source": [
    "# Splitting data and feat engg"
   ]
  },
  {
   "cell_type": "code",
   "execution_count": null,
   "metadata": {
    "collapsed": true
   },
   "outputs": [],
   "source": [
    "import pandas as pd\n",
    "import numpy as np\n",
    "\n",
    "\n",
    "import matplotlib.pyplot as plt\n",
    "import seaborn as sns\n",
    "%matplotlib inline\n",
    "\n",
    "from sklearn.decomposition import PCA\n",
    "from sklearn.discriminant_analysis import LinearDiscriminantAnalysis\n",
    "from sklearn.model_selection import StratifiedShuffleSplit"
   ]
  },
  {
   "cell_type": "code",
   "execution_count": null,
   "metadata": {
    "collapsed": true
   },
   "outputs": [],
   "source": [
    "def stratify_split(df, target_col, split_size, cols_to_drop=None):\n",
    "    \"\"\"\n",
    "    splits the given data frame in to given ratio\n",
    "    \"\"\"\n",
    "    print type(df)\n",
    "    cols_to_drop = None if cols_to_drop is None else cols_to_drop\n",
    "    if cols_to_drop is not None:\n",
    "        df = df.drop(cols_to_drop, axis=1)\n",
    "#         print \"Dropping column\"\n",
    "        \n",
    "    X = df.loc[:, df.columns != target_col]\n",
    "    y = df[target_col]\n",
    "\n",
    "    sss = StratifiedShuffleSplit(test_size=split_size, random_state=0)\n",
    "    for train_index, test_index in sss.split(X, y):\n",
    "        #print train_index, test_index\n",
    "        X_train, X_test = X.iloc[train_index], X.iloc[test_index]\n",
    "        y_train, y_test = y[train_index], y[test_index]\n",
    "        \n",
    "    return (X_train, y_train, X_test, y_test)"
   ]
  },
  {
   "cell_type": "markdown",
   "metadata": {},
   "source": [
    "## Splitting Data"
   ]
  },
  {
   "cell_type": "code",
   "execution_count": null,
   "metadata": {
    "collapsed": true
   },
   "outputs": [],
   "source": [
    "print('loading files...')\n",
    "train = pd.read_csv('../data/train.csv')\n",
    "\n",
    "Xtrain_df, ytrain_df, Xtest_val_df, ytest_val_df = stratify_split(train, target_col='target', split_size=0.2)\n",
    "\n",
    "mytrain = pd.concat([Xtrain_df, ytrain_df.to_frame()], axis=1).reset_index(drop=True)\n",
    "mytest = pd.concat([Xtest_val_df, ytest_val_df.to_frame()], axis=1).reset_index(drop=True)\n",
    "\n",
    "\n",
    "mytrain.to_csv('../data/mytrain.csv', index=False)\n",
    "mytest.to_csv('../data/mytest.csv', index=False)"
   ]
  }
 ],
 "metadata": {
  "kernelspec": {
   "display_name": "Python 2",
   "language": "python",
   "name": "python2"
  },
  "language_info": {
   "codemirror_mode": {
    "name": "ipython",
    "version": 2
   },
   "file_extension": ".py",
   "mimetype": "text/x-python",
   "name": "python",
   "nbconvert_exporter": "python",
   "pygments_lexer": "ipython2",
   "version": "2.7.12"
  }
 },
 "nbformat": 4,
 "nbformat_minor": 2
}
