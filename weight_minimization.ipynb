{
 "cells": [
  {
   "cell_type": "markdown",
   "metadata": {},
   "source": [
    "# Find optimal weights with OOF predictions using weight minimization technique "
   ]
  },
  {
   "cell_type": "markdown",
   "metadata": {
    "collapsed": true
   },
   "source": [
    "In this notebook we will look at how to implement Weight Minimization technique to find optimal weights for ensembling, we will apply minimize function on OOF predictions of our base models to find weights."
   ]
  },
  {
   "cell_type": "code",
   "execution_count": 19,
   "metadata": {
    "collapsed": true
   },
   "outputs": [],
   "source": [
    "#load important libraries\n",
    "#author:sohaib\n",
    "from __future__ import division\n",
    "#import required modules\n",
    "from datetime import datetime\n",
    "import pandas as pd \n",
    "from IPython.display import display\n",
    "import numpy as np\n",
    "\n",
    "from sklearn.metrics import roc_auc_score\n",
    "from scipy.optimize import minimize\n",
    "from numba import jit\n",
    "\n",
    "# to supress printing of exponential notation in pandas\n",
    "pd.options.display.float_format = '{:20,.2f}'.format\n",
    "pd.options.display.max_columns = 100"
   ]
  },
  {
   "cell_type": "code",
   "execution_count": 17,
   "metadata": {
    "collapsed": true
   },
   "outputs": [],
   "source": [
    "def auc_to_gini(score):\n",
    "    \"\"\"Converts AUC to Gini\n",
    "       \n",
    "    Arguments:\n",
    "        score {float} -- AUC score\n",
    "    \n",
    "    Returns:\n",
    "        [float] -- gini score\n",
    "    \"\"\"\n",
    "    \n",
    "    gini = (2 * score) - 1\n",
    "    return gini\n",
    "\n",
    "\n",
    "# _-author__:Tilli\n",
    "\n",
    "#TODO: Multiprocessing takes more time, because Inter Process Communication Overhead is more computationaly costly \n",
    "#in this scenario then function computition\n",
    "\n",
    "#https://www.kaggle.com/tilii7/ensemble-weights-minimization-vs-mcmc/code\n",
    "def weight_minimize(weights, y, predictions_list):\n",
    "    ''' scipy minimize will pass the weights as a numpy array '''\n",
    "    final_prediction = 0\n",
    "    for weight, prediction in zip(weights, predictions_list):\n",
    "        final_prediction += weight*prediction\n",
    "    \n",
    "    return -auc_to_gini(roc_auc_score(y, final_prediction)) \n",
    "\n",
    "def timer(start_time=None):\n",
    "    \"\"\"\n",
    "    \"\"\"\n",
    "    if not start_time:\n",
    "        start_time = datetime.now()\n",
    "        return start_time\n",
    "    elif start_time:\n",
    "        thour, temp_sec = divmod((datetime.now() - start_time).total_seconds(), 3600)\n",
    "        tmin, tsec = divmod(temp_sec, 60)\n",
    "        print('\\n Time taken: %i hours %i minutes and %s seconds.' % (thour, tmin, round(tsec, 2)))"
   ]
  },
  {
   "cell_type": "code",
   "execution_count": 24,
   "metadata": {
    "collapsed": true
   },
   "outputs": [],
   "source": [
    "MAX_ITER_FOR_MINIMIZE_FUNC = 1000\n",
    "MAX_WEIGHTS_ITER = 10\n",
    "\n",
    "#download the porto data from : https://www.kaggle.com/c/porto-seguro-safe-driver-prediction/data\n",
    "TRAIN_PATH = 'porto_data/train.csv'\n",
    "TEST_PATH = 'porto_data/test.csv'"
   ]
  },
  {
   "cell_type": "markdown",
   "metadata": {},
   "source": [
    "##  Load OOF predictitons of base models.\n"
   ]
  },
  {
   "cell_type": "code",
   "execution_count": 14,
   "metadata": {
    "collapsed": true
   },
   "outputs": [],
   "source": [
    "train = pd.read_csv(TRAIN_PATH)\n",
    "y = train.target\n",
    "\n",
    "#sample dataset\n",
    "xgb_oof = pd.read_csv('base_models_results/oof_xgb_base.csv')\n",
    "lgb_oof = pd.read_csv('base_models_results/oof_lgb_base.csv')\n",
    "\n",
    "oof_predictions = [xgb_oof.xgb_basetrain, lgb_oof.lgb_basetrain]"
   ]
  },
  {
   "cell_type": "code",
   "execution_count": 22,
   "metadata": {},
   "outputs": [
    {
     "name": "stdout",
     "output_type": "stream",
     "text": [
      "Finding weights by minimization ...\n",
      "Best score = -0.254704 on 7 iteration\n",
      "Best Weights:  [ 0.79956133  0.        ]\n",
      "\n",
      " Time taken: 0 hours 0 minutes and 3.28 seconds.\n"
     ]
    }
   ],
   "source": [
    "start_time = timer(None)\n",
    "print 'Finding weights by minimization ...'\n",
    "gini = []\n",
    "weights_list = []\n",
    "\n",
    "for i in range(MAX_WEIGHTS_ITER):\n",
    "    starting_values = np.random.uniform(size=len(oof_predictions))\n",
    "    bounds = [(0,1)]*len(oof_predictions)\n",
    "    res = minimize(weight_minimize, starting_values, method='L-BFGS-B', args=(y, oof_predictions), bounds=bounds, options={'disp': False, 'maxiter': MAX_ITER_FOR_MINIMIZE_FUNC})\n",
    "    gini.append(res['fun'])\n",
    "    weights_list.append(res['x'])\n",
    "\n",
    "bestscore = np.min(gini)\n",
    "print \"Best score = {:.6f} on {} iteration\".format(bestscore, str(np.argmin(gini)))\n",
    "\n",
    "bestweights = weights_list[np.argmin(gini)]\n",
    "print \"Best Weights: \", bestweights\n",
    "timer(start_time)"
   ]
  },
  {
   "cell_type": "code",
   "execution_count": 23,
   "metadata": {
    "collapsed": true
   },
   "outputs": [],
   "source": [
    "#use weights found, multiply and add with base models test predictions"
   ]
  },
  {
   "cell_type": "code",
   "execution_count": null,
   "metadata": {
    "collapsed": true
   },
   "outputs": [],
   "source": []
  }
 ],
 "metadata": {
  "kernelspec": {
   "display_name": "Python 2",
   "language": "python",
   "name": "python2"
  },
  "language_info": {
   "codemirror_mode": {
    "name": "ipython",
    "version": 2
   },
   "file_extension": ".py",
   "mimetype": "text/x-python",
   "name": "python",
   "nbconvert_exporter": "python",
   "pygments_lexer": "ipython2",
   "version": "2.7.12"
  }
 },
 "nbformat": 4,
 "nbformat_minor": 2
}
